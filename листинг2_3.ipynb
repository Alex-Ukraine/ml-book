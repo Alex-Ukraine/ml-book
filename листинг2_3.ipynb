{
  "nbformat": 4,
  "nbformat_minor": 0,
  "metadata": {
    "colab": {
      "name": "листинг2-3.ipynb",
      "provenance": [],
      "authorship_tag": "ABX9TyM763iQlddb/nPM/56RDtjW",
      "include_colab_link": true
    },
    "kernelspec": {
      "name": "python3",
      "display_name": "Python 3"
    }
  },
  "cells": [
    {
      "cell_type": "markdown",
      "metadata": {
        "id": "view-in-github",
        "colab_type": "text"
      },
      "source": [
        "<a href=\"https://colab.research.google.com/github/Alex-Ukraine/ml-book/blob/main/%D0%BB%D0%B8%D1%81%D1%82%D0%B8%D0%BD%D0%B32_3.ipynb\" target=\"_parent\"><img src=\"https://colab.research.google.com/assets/colab-badge.svg\" alt=\"Open In Colab\"/></a>"
      ]
    },
    {
      "cell_type": "code",
      "metadata": {
        "id": "A2rCLyJelH3A"
      },
      "source": [
        "import tensorflow as tf\n",
        "import numpy as np"
      ],
      "execution_count": 6,
      "outputs": []
    },
    {
      "cell_type": "markdown",
      "metadata": {
        "id": "yoENnjBxmRhh"
      },
      "source": [
        "Задаём тремя способами матрицу 2 х 2"
      ]
    },
    {
      "cell_type": "code",
      "metadata": {
        "id": "P6VqOQyhlPrC"
      },
      "source": [
        "m1 = [[1.0, 2.0],\n",
        "      [3.0, 4.0]]"
      ],
      "execution_count": 7,
      "outputs": []
    },
    {
      "cell_type": "code",
      "metadata": {
        "id": "nEn0GKSslWUh"
      },
      "source": [
        "m2 = np.array([[1.0, 2.0],\n",
        "               [3.0, 4.0]], dtype=np.float32)"
      ],
      "execution_count": 8,
      "outputs": []
    },
    {
      "cell_type": "code",
      "metadata": {
        "id": "6pM5E7xslk7K"
      },
      "source": [
        "m3 = tf.constant([[1.0, 2.0],\n",
        "                  [3.0, 4.0]])"
      ],
      "execution_count": 9,
      "outputs": []
    },
    {
      "cell_type": "markdown",
      "metadata": {
        "id": "XVmB_L_lmLkh"
      },
      "source": [
        "Выводит тип каждой матрицы"
      ]
    },
    {
      "cell_type": "code",
      "metadata": {
        "id": "ODWe09v2l0QZ",
        "outputId": "fae67963-1df4-42fe-a4e7-19af1a8efc40",
        "colab": {
          "base_uri": "https://localhost:8080/",
          "height": 68
        }
      },
      "source": [
        "print(type(m1))\n",
        "print(type(m2))\n",
        "print(type(m3))"
      ],
      "execution_count": 10,
      "outputs": [
        {
          "output_type": "stream",
          "text": [
            "<class 'list'>\n",
            "<class 'numpy.ndarray'>\n",
            "<class 'tensorflow.python.framework.ops.EagerTensor'>\n"
          ],
          "name": "stdout"
        }
      ]
    },
    {
      "cell_type": "markdown",
      "metadata": {
        "id": "MDS_PUXFmZkp"
      },
      "source": [
        "Создаёт тензорные объекты раззного типа"
      ]
    },
    {
      "cell_type": "code",
      "metadata": {
        "id": "dlZDNdHol8cp"
      },
      "source": [
        "t1 = tf.convert_to_tensor(m1, dtype=tf.float32)\n",
        "t2 = tf.convert_to_tensor(m2, dtype=tf.float32)\n",
        "t3 = tf.convert_to_tensor(m3, dtype=tf.float32)"
      ],
      "execution_count": 11,
      "outputs": []
    },
    {
      "cell_type": "markdown",
      "metadata": {
        "id": "nI7rx5YDmhA5"
      },
      "source": [
        ""
      ]
    },
    {
      "cell_type": "code",
      "metadata": {
        "id": "saEuU8bYmj-o",
        "outputId": "97567aad-040d-416c-c786-ad7438d6efdd",
        "colab": {
          "base_uri": "https://localhost:8080/",
          "height": 68
        }
      },
      "source": [
        "print(type(t1))\n",
        "print(type(t2))\n",
        "print(type(t3))"
      ],
      "execution_count": 12,
      "outputs": [
        {
          "output_type": "stream",
          "text": [
            "<class 'tensorflow.python.framework.ops.EagerTensor'>\n",
            "<class 'tensorflow.python.framework.ops.EagerTensor'>\n",
            "<class 'tensorflow.python.framework.ops.EagerTensor'>\n"
          ],
          "name": "stdout"
        }
      ]
    }
  ]
}